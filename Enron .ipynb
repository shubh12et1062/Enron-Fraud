{
 "cells": [
  {
   "cell_type": "code",
   "execution_count": 1,
   "metadata": {},
   "outputs": [
    {
     "name": "stdout",
     "output_type": "stream",
     "text": [
      "C:\\Users\\abc\n"
     ]
    }
   ],
   "source": [
    "cd"
   ]
  },
  {
   "cell_type": "code",
   "execution_count": 2,
   "metadata": {},
   "outputs": [
    {
     "name": "stdout",
     "output_type": "stream",
     "text": [
      "C:\\Users\\abc\\ud120-projects\\final_project\n"
     ]
    }
   ],
   "source": [
    "cd \"C:\\Users\\abc\\ud120-projects\\final_project\""
   ]
  },
  {
   "cell_type": "code",
   "execution_count": 3,
   "metadata": {},
   "outputs": [
    {
     "name": "stderr",
     "output_type": "stream",
     "text": [
      "C:\\Users\\abc\\Anaconda2\\lib\\site-packages\\sklearn\\cross_validation.py:44: DeprecationWarning: This module was deprecated in version 0.18 in favor of the model_selection module into which all the refactored classes and functions are moved. Also note that the interface of the new CV iterators are different from that of this module. This module will be removed in 0.20.\n",
      "  \"This module will be removed in 0.20.\", DeprecationWarning)\n"
     ]
    }
   ],
   "source": [
    "# Common imports\n",
    "import numpy as np\n",
    "import os\n",
    "import sys\n",
    "import pickle\n",
    "sys.path.append(\"../tools/\")\n",
    "\n",
    "# to make this notebook's output stable across runs\n",
    "#np.random.seed(42)\n",
    "\n",
    "from feature_format import featureFormat, targetFeatureSplit\n",
    "from tester import dump_classifier_and_data"
   ]
  },
  {
   "cell_type": "code",
   "execution_count": 4,
   "metadata": {
    "collapsed": true
   },
   "outputs": [],
   "source": [
    "with open(\"final_project_dataset.pkl\",\"r\") as data_file:\n",
    "    data_dict = pickle.load(data_file)  "
   ]
  },
  {
   "cell_type": "code",
   "execution_count": 5,
   "metadata": {
    "collapsed": true
   },
   "outputs": [],
   "source": [
    "features_list = ['poi', 'salary', 'to_messages', 'deferral_payments', 'total_payments',\n",
    "                 'loan_advances', 'bonus', 'restricted_stock_deferred',\n",
    "                 'deferred_income', 'total_stock_value', 'expenses', 'from_poi_to_this_person',\n",
    "                 'exercised_stock_options', 'from_messages', 'other', 'from_this_person_to_poi',\n",
    "                 'long_term_incentive', 'shared_receipt_with_poi', 'restricted_stock', 'director_fees']\n"
   ]
  },
  {
   "cell_type": "code",
   "execution_count": 6,
   "metadata": {},
   "outputs": [
    {
     "name": "stdout",
     "output_type": "stream",
     "text": [
      "{'bonus': 5600000,\n",
      " 'deferral_payments': 'NaN',\n",
      " 'deferred_income': 'NaN',\n",
      " 'director_fees': 'NaN',\n",
      " 'email_address': 'jeff.skilling@enron.com',\n",
      " 'exercised_stock_options': 19250000,\n",
      " 'expenses': 29336,\n",
      " 'from_messages': 108,\n",
      " 'from_poi_to_this_person': 88,\n",
      " 'from_this_person_to_poi': 30,\n",
      " 'loan_advances': 'NaN',\n",
      " 'long_term_incentive': 1920000,\n",
      " 'other': 22122,\n",
      " 'poi': True,\n",
      " 'restricted_stock': 6843672,\n",
      " 'restricted_stock_deferred': 'NaN',\n",
      " 'salary': 1111258,\n",
      " 'shared_receipt_with_poi': 2042,\n",
      " 'to_messages': 3627,\n",
      " 'total_payments': 8682716,\n",
      " 'total_stock_value': 26093672}\n",
      "Total number of people in the dataset: 146\n",
      "Total number of features in the dataset: 21\n"
     ]
    }
   ],
   "source": [
    "from pprint import pprint\n",
    "#Sample data for one of the Top executives - Jeffrey Skilling\n",
    "pprint(data_dict[\"SKILLING JEFFREY K\"])\n",
    "\n",
    "#Number of people in the datasets\n",
    "\n",
    "print \"Total number of people in the dataset: \" + str(len(data_dict))\n",
    "\n",
    "#Number of features available in the dataset\n",
    "\n",
    "print \"Total number of features in the dataset: \" + str(len(data_dict[\"SKILLING JEFFREY K\"]))"
   ]
  },
  {
   "cell_type": "code",
   "execution_count": 7,
   "metadata": {},
   "outputs": [
    {
     "name": "stdout",
     "output_type": "stream",
     "text": [
      "Total number of features in the data set 146\n",
      "Total number of people in dataset 21\n"
     ]
    }
   ],
   "source": [
    "print \"Total number of features in the data set\", str(len(data_dict))\n",
    "print \"Total number of people in dataset\",str(len(data_dict[\"SKILLING JEFFREY K\"]))"
   ]
  },
  {
   "cell_type": "code",
   "execution_count": 8,
   "metadata": {},
   "outputs": [
    {
     "name": "stdout",
     "output_type": "stream",
     "text": [
      "Number of POI's in dataset 18\n"
     ]
    }
   ],
   "source": [
    "def poi_count(file):\n",
    "    count = 0\n",
    "    for data in file:\n",
    "        if file[data]['poi'] == True:\n",
    "            count += 1\n",
    "    print \"Number of POI's in dataset \"  + str(count)  \n",
    "poi_count(data_dict)"
   ]
  },
  {
   "cell_type": "code",
   "execution_count": 9,
   "metadata": {},
   "outputs": [
    {
     "name": "stdout",
     "output_type": "stream",
     "text": [
      "97343619.0\n"
     ]
    },
    {
     "data": {
      "image/png": "[encoded data removed]",
      "text/plain": [
       "<matplotlib.figure.Figure at 0x8c68400>"
      ]
     },
     "metadata": {},
     "output_type": "display_data"
    }
   ],
   "source": [
    "#Detect outliers and remove them\n",
    "import matplotlib.pyplot as plt\n",
    "%matplotlib inline\n",
    "features = [\"bonus\",\"salary\"]\n",
    "data = featureFormat(data_dict,features)\n",
    "print(data.max())\n",
    "for point in data:\n",
    "    bonus = point[0]\n",
    "    salary = point[1]\n",
    "    plt.scatter(bonus,salary)\n",
    "plt.xlabel(\"bonus\")\n",
    "plt.ylabel(\"salary\")\n",
    "plt.show()"
   ]
  },
  {
   "cell_type": "code",
   "execution_count": 10,
   "metadata": {},
   "outputs": [
    {
     "name": "stdout",
     "output_type": "stream",
     "text": [
      "[('TOTAL', 26704229), ('SKILLING JEFFREY K', 1111258)]\n"
     ]
    }
   ],
   "source": [
    "# Maximum Salary\n",
    "from pprint import pprint\n",
    "outliers_salary = []\n",
    "for key in data_dict:\n",
    "    val = data_dict[key]['salary']\n",
    "    if val == 'NaN':\n",
    "        continue\n",
    "    outliers_salary.append((key,int(val))) \n",
    "\n",
    "pprint (sorted(outliers_salary,key = lambda x:x[1],reverse = True)[:2])   \n",
    "    "
   ]
  },
  {
   "cell_type": "code",
   "execution_count": 11,
   "metadata": {},
   "outputs": [
    {
     "name": "stdout",
     "output_type": "stream",
     "text": [
      "[('TOTAL', 97343619), ('LAVORATO JOHN J', 8000000)]\n"
     ]
    }
   ],
   "source": [
    "# Maximum Bonus\n",
    "outliers_bonus = []\n",
    "for key in data_dict:\n",
    "    val = data_dict[key]['bonus']\n",
    "    if val == 'NaN':\n",
    "        continue\n",
    "    outliers_bonus.append((key,int(val)))\n",
    "pprint(sorted(outliers_bonus,key = lambda x:x[1],reverse = True)[:2])    "
   ]
  },
  {
   "cell_type": "markdown",
   "metadata": {},
   "source": [
    "Removing Total and Travel Agency in the Park outliers"
   ]
  },
  {
   "cell_type": "code",
   "execution_count": 12,
   "metadata": {},
   "outputs": [
    {
     "data": {
      "text/plain": [
       "{'bonus': 'NaN',\n",
       " 'deferral_payments': 'NaN',\n",
       " 'deferred_income': 'NaN',\n",
       " 'director_fees': 'NaN',\n",
       " 'email_address': 'NaN',\n",
       " 'exercised_stock_options': 'NaN',\n",
       " 'expenses': 'NaN',\n",
       " 'from_messages': 'NaN',\n",
       " 'from_poi_to_this_person': 'NaN',\n",
       " 'from_this_person_to_poi': 'NaN',\n",
       " 'loan_advances': 'NaN',\n",
       " 'long_term_incentive': 'NaN',\n",
       " 'other': 362096,\n",
       " 'poi': False,\n",
       " 'restricted_stock': 'NaN',\n",
       " 'restricted_stock_deferred': 'NaN',\n",
       " 'salary': 'NaN',\n",
       " 'shared_receipt_with_poi': 'NaN',\n",
       " 'to_messages': 'NaN',\n",
       " 'total_payments': 362096,\n",
       " 'total_stock_value': 'NaN'}"
      ]
     },
     "execution_count": 12,
     "metadata": {},
     "output_type": "execute_result"
    }
   ],
   "source": [
    "data_dict.pop('TOTAL',0)\n",
    "data_dict.pop('THE TRAVEL AGENCY IN THE PARK',0)"
   ]
  },
  {
   "cell_type": "code",
   "execution_count": 13,
   "metadata": {},
   "outputs": [
    {
     "data": {
      "image/png": "[encoded data removed]",
      "text/plain": [
       "<matplotlib.figure.Figure at 0x8836470>"
      ]
     },
     "metadata": {},
     "output_type": "display_data"
    }
   ],
   "source": [
    "features = [\"salary\",\"bonus\"]\n",
    "data = featureFormat(data_dict,features)\n",
    "for point in data:\n",
    "    salary = point[0]\n",
    "    bonus = point[1]\n",
    "    plt.scatter(salary,bonus)\n",
    "plt.xlabel(\"salary\")\n",
    "plt.ylabel(\"bonus\")\n",
    "plt.show()    "
   ]
  },
  {
   "cell_type": "code",
   "execution_count": 14,
   "metadata": {},
   "outputs": [
    {
     "data": {
      "text/html": [
       "<div>\n",
       "<style>\n",
       "    .dataframe thead tr:only-child th {\n",
       "        text-align: right;\n",
       "    }\n",
       "\n",
       "    .dataframe thead th {\n",
       "        text-align: left;\n",
       "    }\n",
       "\n",
       "    .dataframe tbody tr th {\n",
       "        vertical-align: top;\n",
       "    }\n",
       "</style>\n",
       "<table border=\"1\" class=\"dataframe\">\n",
       "  <thead>\n",
       "    <tr style=\"text-align: right;\">\n",
       "      <th></th>\n",
       "      <th>bonus</th>\n",
       "      <th>deferral_payments</th>\n",
       "      <th>deferred_income</th>\n",
       "      <th>director_fees</th>\n",
       "      <th>email_address</th>\n",
       "      <th>exercised_stock_options</th>\n",
       "      <th>expenses</th>\n",
       "      <th>from_messages</th>\n",
       "      <th>from_poi_to_this_person</th>\n",
       "      <th>from_this_person_to_poi</th>\n",
       "      <th>...</th>\n",
       "      <th>long_term_incentive</th>\n",
       "      <th>other</th>\n",
       "      <th>poi</th>\n",
       "      <th>restricted_stock</th>\n",
       "      <th>restricted_stock_deferred</th>\n",
       "      <th>salary</th>\n",
       "      <th>shared_receipt_with_poi</th>\n",
       "      <th>to_messages</th>\n",
       "      <th>total_payments</th>\n",
       "      <th>total_stock_value</th>\n",
       "    </tr>\n",
       "  </thead>\n",
       "  <tbody>\n",
       "    <tr>\n",
       "      <th>0</th>\n",
       "      <td>600000</td>\n",
       "      <td>NaN</td>\n",
       "      <td>NaN</td>\n",
       "      <td>NaN</td>\n",
       "      <td>mark.metts@enron.com</td>\n",
       "      <td>NaN</td>\n",
       "      <td>94299</td>\n",
       "      <td>29</td>\n",
       "      <td>38</td>\n",
       "      <td>1</td>\n",
       "      <td>...</td>\n",
       "      <td>NaN</td>\n",
       "      <td>1740</td>\n",
       "      <td>False</td>\n",
       "      <td>585062</td>\n",
       "      <td>NaN</td>\n",
       "      <td>365788</td>\n",
       "      <td>702</td>\n",
       "      <td>807</td>\n",
       "      <td>1061827</td>\n",
       "      <td>585062</td>\n",
       "    </tr>\n",
       "    <tr>\n",
       "      <th>1</th>\n",
       "      <td>1200000</td>\n",
       "      <td>1295738</td>\n",
       "      <td>-1386055</td>\n",
       "      <td>NaN</td>\n",
       "      <td>NaN</td>\n",
       "      <td>6680544</td>\n",
       "      <td>11200</td>\n",
       "      <td>NaN</td>\n",
       "      <td>NaN</td>\n",
       "      <td>NaN</td>\n",
       "      <td>...</td>\n",
       "      <td>1586055</td>\n",
       "      <td>2660303</td>\n",
       "      <td>False</td>\n",
       "      <td>3942714</td>\n",
       "      <td>NaN</td>\n",
       "      <td>267102</td>\n",
       "      <td>NaN</td>\n",
       "      <td>NaN</td>\n",
       "      <td>5634343</td>\n",
       "      <td>10623258</td>\n",
       "    </tr>\n",
       "    <tr>\n",
       "      <th>2</th>\n",
       "      <td>350000</td>\n",
       "      <td>NaN</td>\n",
       "      <td>-400729</td>\n",
       "      <td>NaN</td>\n",
       "      <td>steven.elliott@enron.com</td>\n",
       "      <td>4890344</td>\n",
       "      <td>78552</td>\n",
       "      <td>NaN</td>\n",
       "      <td>NaN</td>\n",
       "      <td>NaN</td>\n",
       "      <td>...</td>\n",
       "      <td>NaN</td>\n",
       "      <td>12961</td>\n",
       "      <td>False</td>\n",
       "      <td>1788391</td>\n",
       "      <td>NaN</td>\n",
       "      <td>170941</td>\n",
       "      <td>NaN</td>\n",
       "      <td>NaN</td>\n",
       "      <td>211725</td>\n",
       "      <td>6678735</td>\n",
       "    </tr>\n",
       "    <tr>\n",
       "      <th>3</th>\n",
       "      <td>NaN</td>\n",
       "      <td>NaN</td>\n",
       "      <td>NaN</td>\n",
       "      <td>NaN</td>\n",
       "      <td>bill.cordes@enron.com</td>\n",
       "      <td>651850</td>\n",
       "      <td>NaN</td>\n",
       "      <td>12</td>\n",
       "      <td>10</td>\n",
       "      <td>0</td>\n",
       "      <td>...</td>\n",
       "      <td>NaN</td>\n",
       "      <td>NaN</td>\n",
       "      <td>False</td>\n",
       "      <td>386335</td>\n",
       "      <td>NaN</td>\n",
       "      <td>NaN</td>\n",
       "      <td>58</td>\n",
       "      <td>764</td>\n",
       "      <td>NaN</td>\n",
       "      <td>1038185</td>\n",
       "    </tr>\n",
       "    <tr>\n",
       "      <th>4</th>\n",
       "      <td>1500000</td>\n",
       "      <td>NaN</td>\n",
       "      <td>-3117011</td>\n",
       "      <td>NaN</td>\n",
       "      <td>kevin.hannon@enron.com</td>\n",
       "      <td>5538001</td>\n",
       "      <td>34039</td>\n",
       "      <td>32</td>\n",
       "      <td>32</td>\n",
       "      <td>21</td>\n",
       "      <td>...</td>\n",
       "      <td>1617011</td>\n",
       "      <td>11350</td>\n",
       "      <td>True</td>\n",
       "      <td>853064</td>\n",
       "      <td>NaN</td>\n",
       "      <td>243293</td>\n",
       "      <td>1035</td>\n",
       "      <td>1045</td>\n",
       "      <td>288682</td>\n",
       "      <td>6391065</td>\n",
       "    </tr>\n",
       "  </tbody>\n",
       "</table>\n",
       "<p>5 rows × 21 columns</p>\n",
       "</div>"
      ],
      "text/plain": [
       "     bonus deferral_payments deferred_income director_fees  \\\n",
       "0   600000               NaN             NaN           NaN   \n",
       "1  1200000           1295738        -1386055           NaN   \n",
       "2   350000               NaN         -400729           NaN   \n",
       "3      NaN               NaN             NaN           NaN   \n",
       "4  1500000               NaN        -3117011           NaN   \n",
       "\n",
       "              email_address exercised_stock_options expenses from_messages  \\\n",
       "0      mark.metts@enron.com                     NaN    94299            29   \n",
       "1                       NaN                 6680544    11200           NaN   \n",
       "2  steven.elliott@enron.com                 4890344    78552           NaN   \n",
       "3     bill.cordes@enron.com                  651850      NaN            12   \n",
       "4    kevin.hannon@enron.com                 5538001    34039            32   \n",
       "\n",
       "  from_poi_to_this_person from_this_person_to_poi        ...         \\\n",
       "0                      38                       1        ...          \n",
       "1                     NaN                     NaN        ...          \n",
       "2                     NaN                     NaN        ...          \n",
       "3                      10                       0        ...          \n",
       "4                      32                      21        ...          \n",
       "\n",
       "  long_term_incentive    other    poi  restricted_stock  \\\n",
       "0                 NaN     1740  False            585062   \n",
       "1             1586055  2660303  False           3942714   \n",
       "2                 NaN    12961  False           1788391   \n",
       "3                 NaN      NaN  False            386335   \n",
       "4             1617011    11350   True            853064   \n",
       "\n",
       "  restricted_stock_deferred  salary shared_receipt_with_poi to_messages  \\\n",
       "0                       NaN  365788                     702         807   \n",
       "1                       NaN  267102                     NaN         NaN   \n",
       "2                       NaN  170941                     NaN         NaN   \n",
       "3                       NaN     NaN                      58         764   \n",
       "4                       NaN  243293                    1035        1045   \n",
       "\n",
       "  total_payments total_stock_value  \n",
       "0        1061827            585062  \n",
       "1        5634343          10623258  \n",
       "2         211725           6678735  \n",
       "3            NaN           1038185  \n",
       "4         288682           6391065  \n",
       "\n",
       "[5 rows x 21 columns]"
      ]
     },
     "execution_count": 14,
     "metadata": {},
     "output_type": "execute_result"
    }
   ],
   "source": [
    "import pandas as pd\n",
    "df_values = pd.DataFrame.from_records(list(data_dict.values()))\n",
    "df_values.head()"
   ]
  },
  {
   "cell_type": "code",
   "execution_count": 15,
   "metadata": {},
   "outputs": [
    {
     "data": {
      "text/plain": [
       "0          METTS MARK\n",
       "1       BAXTER JOHN C\n",
       "2      ELLIOTT STEVEN\n",
       "3    CORDES WILLIAM R\n",
       "4      HANNON KEVIN P\n",
       "dtype: object"
      ]
     },
     "execution_count": 15,
     "metadata": {},
     "output_type": "execute_result"
    }
   ],
   "source": [
    "df_keys = pd.Series(list(data_dict.keys()))\n",
    "df_keys.head()"
   ]
  },
  {
   "cell_type": "code",
   "execution_count": 16,
   "metadata": {},
   "outputs": [
    {
     "name": "stdout",
     "output_type": "stream",
     "text": [
      "bonus                        0\n",
      "deferral_payments            0\n",
      "deferred_income              0\n",
      "director_fees                0\n",
      "email_address                0\n",
      "exercised_stock_options      0\n",
      "expenses                     0\n",
      "from_messages                0\n",
      "from_poi_to_this_person      0\n",
      "from_this_person_to_poi      0\n",
      "loan_advances                0\n",
      "long_term_incentive          0\n",
      "other                        0\n",
      "poi                          0\n",
      "restricted_stock             0\n",
      "restricted_stock_deferred    0\n",
      "salary                       0\n",
      "shared_receipt_with_poi      0\n",
      "to_messages                  0\n",
      "total_payments               0\n",
      "total_stock_value            0\n",
      "dtype: int64\n"
     ]
    }
   ],
   "source": [
    "print df_values.isnull().sum()"
   ]
  },
  {
   "cell_type": "code",
   "execution_count": 17,
   "metadata": {},
   "outputs": [
    {
     "data": {
      "text/plain": [
       "bonus                         63\n",
       "deferral_payments            106\n",
       "deferred_income               96\n",
       "director_fees                128\n",
       "email_address                 33\n",
       "exercised_stock_options       43\n",
       "expenses                      50\n",
       "from_messages                 58\n",
       "from_poi_to_this_person       58\n",
       "from_this_person_to_poi       58\n",
       "loan_advances                141\n",
       "long_term_incentive           79\n",
       "other                         53\n",
       "poi                            0\n",
       "restricted_stock              35\n",
       "restricted_stock_deferred    127\n",
       "salary                        50\n",
       "shared_receipt_with_poi       58\n",
       "to_messages                   58\n",
       "total_payments                21\n",
       "total_stock_value             19\n",
       "dtype: int64"
      ]
     },
     "execution_count": 17,
     "metadata": {},
     "output_type": "execute_result"
    }
   ],
   "source": [
    "#We will convert them to numpy nan and then to zero.\n",
    "import numpy as np\n",
    "\n",
    "df_values.replace(to_replace = 'NaN',value = np.nan,inplace = True)\n",
    "df_values.isnull().sum()\n"
   ]
  },
  {
   "cell_type": "code",
   "execution_count": 18,
   "metadata": {},
   "outputs": [
    {
     "data": {
      "text/html": [
       "<div>\n",
       "<style>\n",
       "    .dataframe thead tr:only-child th {\n",
       "        text-align: right;\n",
       "    }\n",
       "\n",
       "    .dataframe thead th {\n",
       "        text-align: left;\n",
       "    }\n",
       "\n",
       "    .dataframe tbody tr th {\n",
       "        vertical-align: top;\n",
       "    }\n",
       "</style>\n",
       "<table border=\"1\" class=\"dataframe\">\n",
       "  <thead>\n",
       "    <tr style=\"text-align: right;\">\n",
       "      <th></th>\n",
       "      <th>bonus</th>\n",
       "      <th>deferral_payments</th>\n",
       "      <th>deferred_income</th>\n",
       "      <th>director_fees</th>\n",
       "      <th>email_address</th>\n",
       "      <th>exercised_stock_options</th>\n",
       "      <th>expenses</th>\n",
       "      <th>from_messages</th>\n",
       "      <th>from_poi_to_this_person</th>\n",
       "      <th>from_this_person_to_poi</th>\n",
       "      <th>...</th>\n",
       "      <th>long_term_incentive</th>\n",
       "      <th>other</th>\n",
       "      <th>poi</th>\n",
       "      <th>restricted_stock</th>\n",
       "      <th>restricted_stock_deferred</th>\n",
       "      <th>salary</th>\n",
       "      <th>shared_receipt_with_poi</th>\n",
       "      <th>to_messages</th>\n",
       "      <th>total_payments</th>\n",
       "      <th>total_stock_value</th>\n",
       "    </tr>\n",
       "  </thead>\n",
       "  <tbody>\n",
       "    <tr>\n",
       "      <th>0</th>\n",
       "      <td>600000.0</td>\n",
       "      <td>0.0</td>\n",
       "      <td>0.0</td>\n",
       "      <td>0.0</td>\n",
       "      <td>mark.metts@enron.com</td>\n",
       "      <td>0.0</td>\n",
       "      <td>94299.0</td>\n",
       "      <td>29.0</td>\n",
       "      <td>38.0</td>\n",
       "      <td>1.0</td>\n",
       "      <td>...</td>\n",
       "      <td>0.0</td>\n",
       "      <td>1740.0</td>\n",
       "      <td>False</td>\n",
       "      <td>585062.0</td>\n",
       "      <td>0.0</td>\n",
       "      <td>365788.0</td>\n",
       "      <td>702.0</td>\n",
       "      <td>807.0</td>\n",
       "      <td>1061827.0</td>\n",
       "      <td>585062.0</td>\n",
       "    </tr>\n",
       "    <tr>\n",
       "      <th>1</th>\n",
       "      <td>1200000.0</td>\n",
       "      <td>1295738.0</td>\n",
       "      <td>-1386055.0</td>\n",
       "      <td>0.0</td>\n",
       "      <td>0</td>\n",
       "      <td>6680544.0</td>\n",
       "      <td>11200.0</td>\n",
       "      <td>0.0</td>\n",
       "      <td>0.0</td>\n",
       "      <td>0.0</td>\n",
       "      <td>...</td>\n",
       "      <td>1586055.0</td>\n",
       "      <td>2660303.0</td>\n",
       "      <td>False</td>\n",
       "      <td>3942714.0</td>\n",
       "      <td>0.0</td>\n",
       "      <td>267102.0</td>\n",
       "      <td>0.0</td>\n",
       "      <td>0.0</td>\n",
       "      <td>5634343.0</td>\n",
       "      <td>10623258.0</td>\n",
       "    </tr>\n",
       "    <tr>\n",
       "      <th>2</th>\n",
       "      <td>350000.0</td>\n",
       "      <td>0.0</td>\n",
       "      <td>-400729.0</td>\n",
       "      <td>0.0</td>\n",
       "      <td>steven.elliott@enron.com</td>\n",
       "      <td>4890344.0</td>\n",
       "      <td>78552.0</td>\n",
       "      <td>0.0</td>\n",
       "      <td>0.0</td>\n",
       "      <td>0.0</td>\n",
       "      <td>...</td>\n",
       "      <td>0.0</td>\n",
       "      <td>12961.0</td>\n",
       "      <td>False</td>\n",
       "      <td>1788391.0</td>\n",
       "      <td>0.0</td>\n",
       "      <td>170941.0</td>\n",
       "      <td>0.0</td>\n",
       "      <td>0.0</td>\n",
       "      <td>211725.0</td>\n",
       "      <td>6678735.0</td>\n",
       "    </tr>\n",
       "    <tr>\n",
       "      <th>3</th>\n",
       "      <td>0.0</td>\n",
       "      <td>0.0</td>\n",
       "      <td>0.0</td>\n",
       "      <td>0.0</td>\n",
       "      <td>bill.cordes@enron.com</td>\n",
       "      <td>651850.0</td>\n",
       "      <td>0.0</td>\n",
       "      <td>12.0</td>\n",
       "      <td>10.0</td>\n",
       "      <td>0.0</td>\n",
       "      <td>...</td>\n",
       "      <td>0.0</td>\n",
       "      <td>0.0</td>\n",
       "      <td>False</td>\n",
       "      <td>386335.0</td>\n",
       "      <td>0.0</td>\n",
       "      <td>0.0</td>\n",
       "      <td>58.0</td>\n",
       "      <td>764.0</td>\n",
       "      <td>0.0</td>\n",
       "      <td>1038185.0</td>\n",
       "    </tr>\n",
       "    <tr>\n",
       "      <th>4</th>\n",
       "      <td>1500000.0</td>\n",
       "      <td>0.0</td>\n",
       "      <td>-3117011.0</td>\n",
       "      <td>0.0</td>\n",
       "      <td>kevin.hannon@enron.com</td>\n",
       "      <td>5538001.0</td>\n",
       "      <td>34039.0</td>\n",
       "      <td>32.0</td>\n",
       "      <td>32.0</td>\n",
       "      <td>21.0</td>\n",
       "      <td>...</td>\n",
       "      <td>1617011.0</td>\n",
       "      <td>11350.0</td>\n",
       "      <td>True</td>\n",
       "      <td>853064.0</td>\n",
       "      <td>0.0</td>\n",
       "      <td>243293.0</td>\n",
       "      <td>1035.0</td>\n",
       "      <td>1045.0</td>\n",
       "      <td>288682.0</td>\n",
       "      <td>6391065.0</td>\n",
       "    </tr>\n",
       "  </tbody>\n",
       "</table>\n",
       "<p>5 rows × 21 columns</p>\n",
       "</div>"
      ],
      "text/plain": [
       "       bonus  deferral_payments  deferred_income  director_fees  \\\n",
       "0   600000.0                0.0              0.0            0.0   \n",
       "1  1200000.0          1295738.0       -1386055.0            0.0   \n",
       "2   350000.0                0.0        -400729.0            0.0   \n",
       "3        0.0                0.0              0.0            0.0   \n",
       "4  1500000.0                0.0       -3117011.0            0.0   \n",
       "\n",
       "              email_address  exercised_stock_options  expenses  from_messages  \\\n",
       "0      mark.metts@enron.com                      0.0   94299.0           29.0   \n",
       "1                         0                6680544.0   11200.0            0.0   \n",
       "2  steven.elliott@enron.com                4890344.0   78552.0            0.0   \n",
       "3     bill.cordes@enron.com                 651850.0       0.0           12.0   \n",
       "4    kevin.hannon@enron.com                5538001.0   34039.0           32.0   \n",
       "\n",
       "   from_poi_to_this_person  from_this_person_to_poi        ...          \\\n",
       "0                     38.0                      1.0        ...           \n",
       "1                      0.0                      0.0        ...           \n",
       "2                      0.0                      0.0        ...           \n",
       "3                     10.0                      0.0        ...           \n",
       "4                     32.0                     21.0        ...           \n",
       "\n",
       "   long_term_incentive      other    poi  restricted_stock  \\\n",
       "0                  0.0     1740.0  False          585062.0   \n",
       "1            1586055.0  2660303.0  False         3942714.0   \n",
       "2                  0.0    12961.0  False         1788391.0   \n",
       "3                  0.0        0.0  False          386335.0   \n",
       "4            1617011.0    11350.0   True          853064.0   \n",
       "\n",
       "   restricted_stock_deferred    salary  shared_receipt_with_poi  to_messages  \\\n",
       "0                        0.0  365788.0                    702.0        807.0   \n",
       "1                        0.0  267102.0                      0.0          0.0   \n",
       "2                        0.0  170941.0                      0.0          0.0   \n",
       "3                        0.0       0.0                     58.0        764.0   \n",
       "4                        0.0  243293.0                   1035.0       1045.0   \n",
       "\n",
       "   total_payments  total_stock_value  \n",
       "0       1061827.0           585062.0  \n",
       "1       5634343.0         10623258.0  \n",
       "2        211725.0          6678735.0  \n",
       "3             0.0          1038185.0  \n",
       "4        288682.0          6391065.0  \n",
       "\n",
       "[5 rows x 21 columns]"
      ]
     },
     "execution_count": 18,
     "metadata": {},
     "output_type": "execute_result"
    }
   ],
   "source": [
    "df_values.replace(to_replace = np.nan,value = 0,inplace=True)\n",
    "df_values.head()"
   ]
  },
  {
   "cell_type": "markdown",
   "metadata": {
    "collapsed": true
   },
   "source": [
    "Feature Engineering"
   ]
  },
  {
   "cell_type": "code",
   "execution_count": 19,
   "metadata": {},
   "outputs": [
    {
     "name": "stdout",
     "output_type": "stream",
     "text": [
      "['poi', 'salary', 'to_messages', 'deferral_payments', 'total_payments', 'loan_advances', 'bonus', 'restricted_stock_deferred', 'deferred_income', 'total_stock_value', 'expenses', 'from_poi_to_this_person', 'exercised_stock_options', 'from_messages', 'other', 'from_this_person_to_poi', 'long_term_incentive', 'shared_receipt_with_poi', 'restricted_stock', 'director_fees']\n"
     ]
    }
   ],
   "source": [
    "my_features = features_list\n",
    "my_dataset = data_dict\n",
    "print my_features"
   ]
  },
  {
   "cell_type": "code",
   "execution_count": 20,
   "metadata": {},
   "outputs": [
    {
     "name": "stdout",
     "output_type": "stream",
     "text": [
      "Decision Tree Classifier: \n",
      "Accuracy: 0.837209302326\n",
      "Precision Score: 0.0\n",
      "Recall Score: 0.0\n"
     ]
    }
   ],
   "source": [
    "from sklearn import preprocessing\n",
    "from sklearn import cross_validation\n",
    "from sklearn.tree import DecisionTreeClassifier\n",
    "from sklearn.metrics import accuracy_score\n",
    "from sklearn.metrics import precision_score\n",
    "from sklearn.metrics import recall_score\n",
    "\n",
    "\n",
    "data = featureFormat(my_dataset, features_list, sort_keys = True)\n",
    "labels, features = targetFeatureSplit(data)\n",
    "scaler = preprocessing.MinMaxScaler()\n",
    "features = scaler.fit_transform(features)\n",
    "features_train,features_test,labels_train,labels_test = cross_validation.train_test_split(features,labels, test_size=0.3, \n",
    "                                                                                          random_state=42)\n",
    "clf = DecisionTreeClassifier(max_depth = 5)\n",
    "clf.fit(features_train,labels_train)\n",
    "pred = clf.predict(features_test)\n",
    "from sklearn.metrics import accuracy_score\n",
    "accuracy = accuracy_score(labels_test,pred)\n",
    "print(\"Decision Tree Classifier: \")\n",
    "print \"Accuracy: \" + str(accuracy)\n",
    "print \"Precision Score: \" + str(precision_score(labels_test,pred))\n",
    "print \"Recall Score: \" + str(recall_score(labels_test,pred))"
   ]
  },
  {
   "cell_type": "markdown",
   "metadata": {},
   "source": [
    "So we see before any feature engineering, our Decision Tree classifier is giving us an accuracy of 83.72% with Precision score and Recall Scores of 0.25 and 0.2 respectively"
   ]
  },
  {
   "cell_type": "markdown",
   "metadata": {},
   "source": [
    "# Feature Engineering\n",
    "\n",
    "\n",
    "Now let's add some new features of interest to the list of the features. I will make a function to do that."
   ]
  },
  {
   "cell_type": "code",
   "execution_count": 21,
   "metadata": {},
   "outputs": [
    {
     "name": "stdout",
     "output_type": "stream",
     "text": [
      "['poi', 'salary', 'to_messages', 'deferral_payments', 'total_payments', 'loan_advances', 'bonus', 'restricted_stock_deferred', 'deferred_income', 'total_stock_value', 'expenses', 'from_poi_to_this_person', 'exercised_stock_options', 'from_messages', 'other', 'from_this_person_to_poi', 'long_term_incentive', 'shared_receipt_with_poi', 'restricted_stock', 'director_fees', 'total_poi_messages', 'fraction_to_poi', 'fraction_from_poi']\n"
     ]
    }
   ],
   "source": [
    "#Creating new features  for email \n",
    "def poi_messages(data_dict, my_features):\n",
    "    global features_list\n",
    "    fields = ['to_messages', 'from_messages',\n",
    "              'from_poi_to_this_person', 'from_this_person_to_poi']\n",
    "    for record in data_dict:\n",
    "        person = data_dict[record]\n",
    "        is_valid = True\n",
    "        for field in fields:\n",
    "            if person[field] == 'NaN':\n",
    "                is_valid = False\n",
    "        if is_valid:\n",
    "            total_messages = person['to_messages']+ person['from_messages']\n",
    "            total_poi_messages = person['from_poi_to_this_person'] + person['from_this_person_to_poi']  \n",
    "            person['total_poi_messages'] = float(total_poi_messages) / total_messages\n",
    "        else:\n",
    "            person['total_poi_messages'] = 'NaN'\n",
    "    features_list += ['total_poi_messages']        \n",
    "def add_fraction_to_poi(data_dict, features_list):\n",
    "    \"\"\" mutates data dict to add proportion of email fraction_to_poi \"\"\"\n",
    "    fields = ['from_messages', 'from_this_person_to_poi']\n",
    "    for record in data_dict:\n",
    "        person = data_dict[record]\n",
    "        is_valid = True\n",
    "        for field in fields:\n",
    "            if person[field] == 'NaN':\n",
    "                is_valid = False\n",
    "        if is_valid:\n",
    "            total_messages = person['from_messages']\n",
    "            poi_messages =   person['from_this_person_to_poi']\n",
    "            person['fraction_to_poi'] = float(poi_messages) / total_messages\n",
    "        else:\n",
    "            person['fraction_to_poi'] = 'NaN'\n",
    "    features_list += ['fraction_to_poi']\n",
    "\n",
    "\n",
    "def add_fraction_from_poi(data_dict, features_list):\n",
    "    \"\"\" mutates data dict to add proportion of email fraction_from_poi \"\"\"\n",
    "    fields = ['to_messages', 'from_poi_to_this_person']\n",
    "    for record in data_dict:\n",
    "        person = data_dict[record]\n",
    "        is_valid = True\n",
    "        for field in fields:\n",
    "            if person[field] == 'NaN':\n",
    "                is_valid = False\n",
    "        if is_valid:\n",
    "            total_messages = person['to_messages']\n",
    "            poi_messages =   person['from_poi_to_this_person']\n",
    "            person['fraction_from_poi'] = float(poi_messages) / total_messages\n",
    "        else:\n",
    "            person['fraction_from_poi'] = 'NaN'\n",
    "    features_list += ['fraction_from_poi']\n",
    "\n",
    "\n",
    "poi_messages(data_dict, my_features)\n",
    "add_fraction_to_poi(data_dict, my_features)\n",
    "add_fraction_from_poi(data_dict, my_features)\n",
    "print my_features"
   ]
  },
  {
   "cell_type": "code",
   "execution_count": 22,
   "metadata": {},
   "outputs": [
    {
     "name": "stdout",
     "output_type": "stream",
     "text": [
      "['poi', 'salary', 'to_messages', 'deferral_payments', 'total_payments', 'loan_advances', 'bonus', 'restricted_stock_deferred', 'deferred_income', 'total_stock_value', 'expenses', 'from_poi_to_this_person', 'exercised_stock_options', 'from_messages', 'other', 'from_this_person_to_poi', 'long_term_incentive', 'shared_receipt_with_poi', 'restricted_stock', 'director_fees', 'total_poi_messages', 'fraction_to_poi', 'fraction_from_poi', 'wealth']\n"
     ]
    }
   ],
   "source": [
    "# creating a new feature for finance\n",
    "def total_finance(data_dict, my_features):\n",
    "    global features_list\n",
    "    fields = [\"bonus\", \"total_stock_value\", \"salary\" ,\"total_payments\", \"long_term_incentive\"]\n",
    "    for record in data_dict:\n",
    "        person = data_dict[record]\n",
    "        is_valid = True\n",
    "        for field in fields:\n",
    "            if person[field] == \"NaN\":\n",
    "                is_valid = False\n",
    "        if is_valid:\n",
    "            person[\"wealth\"] = person[\"bonus\"] +person[\"total_stock_value\"]+person[\"salary\"]+person[\"total_payments\"]+person[\"long_term_incentive\"]\n",
    "        else:\n",
    "            person[\"wealth\"] = \"NaN\"\n",
    "    features_list += [\"wealth\"]\n",
    "    \n",
    "total_finance(data_dict, my_features)\n",
    "print my_features"
   ]
  },
  {
   "cell_type": "markdown",
   "metadata": {},
   "source": [
    "# Classifier's Result after Feature Engineering"
   ]
  },
  {
   "cell_type": "code",
   "execution_count": 23,
   "metadata": {},
   "outputs": [
    {
     "name": "stdout",
     "output_type": "stream",
     "text": [
      "Decision Tree Classifier: \n",
      "Accuracy: 0.837209302326\n",
      "Precision Score: 0.25\n",
      "Recall Score: 0.2\n"
     ]
    }
   ],
   "source": [
    "data = featureFormat(my_dataset, features_list, sort_keys = True)\n",
    "labels, features = targetFeatureSplit(data)\n",
    "scaler = preprocessing.MinMaxScaler()\n",
    "features = scaler.fit_transform(features)\n",
    "features_train,features_test,labels_train,labels_test = cross_validation.train_test_split(features,labels, test_size=0.3, \n",
    "                                                                                          random_state=42)\n",
    "clf = DecisionTreeClassifier(max_depth = 5)\n",
    "clf.fit(features_train,labels_train)\n",
    "pred = clf.predict(features_test)\n",
    "from sklearn.metrics import accuracy_score\n",
    "accuracy = accuracy_score(labels_test,pred)\n",
    "print(\"Decision Tree Classifier: \")\n",
    "print \"Accuracy: \" + str(accuracy)\n",
    "print \"Precision Score: \" + str(precision_score(labels_test,pred))\n",
    "print \"Recall Score: \" + str(recall_score(labels_test,pred))"
   ]
  },
  {
   "cell_type": "code",
   "execution_count": 24,
   "metadata": {},
   "outputs": [
    {
     "name": "stdout",
     "output_type": "stream",
     "text": [
      "7 best features: ['salary', 'wealth', 'bonus', 'total_stock_value', 'fraction_to_poi', 'exercised_stock_options', 'deferred_income']\n",
      "\n",
      "{'salary': 18.289684043404513, 'wealth': 14.601602473775934, 'bonus': 20.792252047181535, 'total_stock_value': 24.182898678566879, 'fraction_to_poi': 16.409712548035799, 'exercised_stock_options': 24.815079733218194, 'deferred_income': 11.458476579280369}\n",
      "{'salary': 18.289684043404513, 'wealth': 14.601602473775934, 'bonus': 20.792252047181535, 'total_stock_value': 24.182898678566879, 'fraction_to_poi': 16.409712548035799, 'exercised_stock_options': 24.815079733218194, 'deferred_income': 11.458476579280369}\n",
      "7 selected features: ['salary', 'wealth', 'bonus', 'total_stock_value', 'fraction_to_poi', 'exercised_stock_options', 'deferred_income']\n",
      "\n"
     ]
    }
   ],
   "source": [
    "from sklearn.feature_selection import SelectKBest\n",
    "from sklearn import preprocessing\n",
    "from sklearn import cross_validation\n",
    "def get_k_best(enron_data, features_list, k):\n",
    "    \"\"\" runs scikit-learn's SelectKBest feature selection\n",
    "        returns dict where keys=features, values=scores\n",
    "    \"\"\"\n",
    "    data = featureFormat(data_dict, features_list)\n",
    "    labels, features = targetFeatureSplit(data)\n",
    "\n",
    "    k_best = SelectKBest(k=k)\n",
    "    k_best.fit(features, labels)\n",
    "    scores = k_best.scores_\n",
    "    unsorted_pairs = zip(features_list[1:], scores)\n",
    "    sorted_pairs = list(reversed(sorted(unsorted_pairs, key=lambda x: x[1])))\n",
    "    k_best_features = dict(sorted_pairs[:k])\n",
    "    print \"{0} best features: {1}\\n\".format(k, k_best_features.keys())\n",
    "    print k_best_features\n",
    "    return k_best_features\n",
    "\n",
    "target_label = 'poi'\n",
    "num_features = 7 # 11 best features\n",
    "top_features = get_k_best(data_dict, features_list, num_features)\n",
    "print top_features\n",
    "my_feature_list = [target_label] + top_features.keys()\n",
    "# print my_feature_list\n",
    "\n",
    "print \"{0} selected features: {1}\\n\".format(len(my_feature_list) - 1, my_feature_list[1:])\n",
    "\n",
    "features_list = my_feature_list"
   ]
  },
  {
   "cell_type": "markdown",
   "metadata": {
    "collapsed": true
   },
   "source": [
    "# Extract features and labels from dataset for local testing "
   ]
  },
  {
   "cell_type": "code",
   "execution_count": 25,
   "metadata": {
    "collapsed": true
   },
   "outputs": [],
   "source": [
    "features_list = [\"poi\",\"fraction_from_poi\", \"fraction_to_poi\",\"shared_receipt_with_poi\"]"
   ]
  },
  {
   "cell_type": "code",
   "execution_count": 26,
   "metadata": {
    "collapsed": true
   },
   "outputs": [],
   "source": [
    "data = featureFormat(my_dataset, features_list, sort_keys = True)\n",
    "labels, features = targetFeatureSplit(data)"
   ]
  },
  {
   "cell_type": "markdown",
   "metadata": {
    "collapsed": true
   },
   "source": [
    "# Scaling the features by MinMaxScaler from Sklearn preprocessing module"
   ]
  },
  {
   "cell_type": "code",
   "execution_count": 27,
   "metadata": {
    "collapsed": true
   },
   "outputs": [],
   "source": [
    "scaler = preprocessing.MinMaxScaler()\n",
    "features = scaler.fit_transform(features)"
   ]
  },
  {
   "cell_type": "markdown",
   "metadata": {},
   "source": [
    "# Splitting the data into train data(70%) and test data(30%)"
   ]
  },
  {
   "cell_type": "code",
   "execution_count": 28,
   "metadata": {
    "collapsed": true
   },
   "outputs": [],
   "source": [
    "features_train,features_test,labels_train,labels_test = cross_validation.train_test_split(features,labels, test_size=0.3, \n",
    "                                                                        random_state=42)"
   ]
  },
  {
   "cell_type": "markdown",
   "metadata": {},
   "source": [
    "# Using different Machine Learning Classifiers.\n"
   ]
  },
  {
   "cell_type": "markdown",
   "metadata": {},
   "source": [
    "# Decision Tree Classifier"
   ]
  },
  {
   "cell_type": "code",
   "execution_count": 29,
   "metadata": {},
   "outputs": [
    {
     "name": "stdout",
     "output_type": "stream",
     "text": [
      "Decision Tree Classifier: \n",
      "Accuracy: 0.961538461538\n",
      "Precision Score: 1.0\n",
      "Recall Score: 0.5\n"
     ]
    }
   ],
   "source": [
    "clf = DecisionTreeClassifier(max_depth = 5)\n",
    "clf.fit(features_train,labels_train)\n",
    "pred = clf.predict(features_test)\n",
    "from sklearn.metrics import accuracy_score\n",
    "accuracy = accuracy_score(labels_test,pred)\n",
    "print(\"Decision Tree Classifier: \")\n",
    "print \"Accuracy: \" + str(accuracy)\n",
    "print \"Precision Score: \" + str(precision_score(labels_test,pred))\n",
    "print \"Recall Score: \" + str(recall_score(labels_test,pred))"
   ]
  },
  {
   "cell_type": "markdown",
   "metadata": {},
   "source": [
    "# Naive Bayes Classifier"
   ]
  },
  {
   "cell_type": "code",
   "execution_count": 30,
   "metadata": {},
   "outputs": [
    {
     "name": "stdout",
     "output_type": "stream",
     "text": [
      "Naive Bayes Classifier: \n",
      "Accuracy: 0.923076923077\n",
      "Precision Score: 0.0\n",
      "Recall Score: 0.0\n"
     ]
    },
    {
     "name": "stderr",
     "output_type": "stream",
     "text": [
      "C:\\Users\\abc\\Anaconda2\\lib\\site-packages\\sklearn\\metrics\\classification.py:1113: UndefinedMetricWarning: Precision is ill-defined and being set to 0.0 due to no predicted samples.\n",
      "  'precision', 'predicted', average, warn_for)\n"
     ]
    }
   ],
   "source": [
    "from sklearn.naive_bayes import GaussianNB\n",
    "clf = GaussianNB()\n",
    "clf.fit(features_train,labels_train)\n",
    "pred = clf.predict(features_test)\n",
    "from sklearn.metrics import accuracy_score\n",
    "accuracy = accuracy_score(labels_test,pred)\n",
    "print(\"Naive Bayes Classifier: \")\n",
    "print \"Accuracy: \" + str(accuracy)\n",
    "print \"Precision Score: \" + str(precision_score(labels_test,pred))\n",
    "print \"Recall Score: \" + str(recall_score(labels_test,pred))"
   ]
  },
  {
   "cell_type": "markdown",
   "metadata": {},
   "source": [
    "# AdaBoost Classifier"
   ]
  },
  {
   "cell_type": "code",
   "execution_count": 31,
   "metadata": {},
   "outputs": [
    {
     "name": "stdout",
     "output_type": "stream",
     "text": [
      "Adaboost Classifier: \n",
      "Accuracy: 0.961538461538\n",
      "Precision Score: 1.0\n",
      "Recall Score: 0.5\n"
     ]
    }
   ],
   "source": [
    "from sklearn.ensemble import AdaBoostClassifier\n",
    "clf = AdaBoostClassifier()\n",
    "clf.fit(features_train,labels_train)\n",
    "pred = clf.predict(features_test)\n",
    "from sklearn.metrics import accuracy_score\n",
    "accuracy = accuracy_score(labels_test,pred)\n",
    "print(\"Adaboost Classifier: \")\n",
    "print \"Accuracy: \" + str(accuracy)\n",
    "print \"Precision Score: \" + str(precision_score(labels_test,pred))\n",
    "print \"Recall Score: \" + str(recall_score(labels_test,pred))"
   ]
  },
  {
   "cell_type": "markdown",
   "metadata": {},
   "source": [
    "# Standard Vector Machine (rbf) Classifier"
   ]
  },
  {
   "cell_type": "code",
   "execution_count": 32,
   "metadata": {},
   "outputs": [
    {
     "name": "stdout",
     "output_type": "stream",
     "text": [
      "SVM Classifier: \n",
      "Accuracy: 0.923076923077\n",
      "Precision Score: 0.0\n",
      "Recall Score: 0.0\n"
     ]
    }
   ],
   "source": [
    "from sklearn.svm import SVC\n",
    "clf = SVC(gamma=3, C=2)\n",
    "clf.fit(features_train,labels_train)\n",
    "pred = clf.predict(features_test)\n",
    "from sklearn.metrics import accuracy_score\n",
    "accuracy = accuracy_score(labels_test,pred)\n",
    "print(\"SVM Classifier: \")\n",
    "print \"Accuracy: \" + str(accuracy)\n",
    "print \"Precision Score: \" + str(precision_score(labels_test,pred))\n",
    "print \"Recall Score: \" + str(recall_score(labels_test,pred))"
   ]
  },
  {
   "cell_type": "markdown",
   "metadata": {},
   "source": [
    "# K Nearest Neighbours Classifier"
   ]
  },
  {
   "cell_type": "code",
   "execution_count": 33,
   "metadata": {},
   "outputs": [
    {
     "name": "stdout",
     "output_type": "stream",
     "text": [
      "kNN Classifier: \n",
      "Accuracy: 0.846153846154\n",
      "Precision Score: 0.0\n",
      "Recall Score: 0.0\n"
     ]
    }
   ],
   "source": [
    "from sklearn.neighbors import KNeighborsClassifier\n",
    "clf = KNeighborsClassifier(3)\n",
    "clf.fit(features_train,labels_train)\n",
    "pred = clf.predict(features_test)\n",
    "from sklearn.metrics import accuracy_score\n",
    "accuracy = accuracy_score(labels_test,pred)\n",
    "print(\"kNN Classifier: \")\n",
    "print \"Accuracy: \" + str(accuracy)\n",
    "print \"Precision Score: \" + str(precision_score(labels_test,pred))\n",
    "print \"Recall Score: \" + str(recall_score(labels_test,pred))"
   ]
  },
  {
   "cell_type": "code",
   "execution_count": 34,
   "metadata": {},
   "outputs": [
    {
     "name": "stderr",
     "output_type": "stream",
     "text": [
      "C:\\Users\\abc\\Anaconda2\\lib\\site-packages\\sklearn\\grid_search.py:43: DeprecationWarning: This module was deprecated in version 0.18 in favor of the model_selection module into which all the refactored classes and functions are moved. This module will be removed in 0.20.\n",
      "  DeprecationWarning)\n"
     ]
    }
   ],
   "source": [
    "from sklearn import grid_search\n",
    "from sklearn.metrics import f1_score"
   ]
  },
  {
   "cell_type": "code",
   "execution_count": 35,
   "metadata": {
    "collapsed": true
   },
   "outputs": [],
   "source": [
    "cv = cross_validation.StratifiedShuffleSplit(labels, n_iter=10)\n",
    "\n",
    "\n",
    "def scoring(estimator, features_test, labels_test):\n",
    "    labels_pred = estimator.predict(features_test)\n",
    "    p = precision_score(labels_test, labels_pred, average='micro')\n",
    "    r = recall_score(labels_test, labels_pred, average='micro')\n",
    "    if p > 0.3 and r > 0.3:\n",
    "        return f1_score(labels_test, labels_pred, average='macro')\n",
    "    return 0"
   ]
  },
  {
   "cell_type": "markdown",
   "metadata": {},
   "source": [
    "# Recursive Feature Selection"
   ]
  },
  {
   "cell_type": "code",
   "execution_count": 36,
   "metadata": {},
   "outputs": [
    {
     "name": "stderr",
     "output_type": "stream",
     "text": [
      "C:\\Users\\abc\\Anaconda2\\lib\\site-packages\\sklearn\\cross_validation.py:552: Warning: The least populated class in y has only 14 members, which is too few. The minimum number of labels for any class cannot be less than n_folds=50.\n",
      "  % (min_labels, self.n_folds)), Warning)\n"
     ]
    },
    {
     "name": "stdout",
     "output_type": "stream",
     "text": [
      "Optimal number of features : 2\n",
      "[False  True  True]\n"
     ]
    },
    {
     "data": {
      "image/png": "[encoded data removed]",
      "text/plain": [
       "<matplotlib.figure.Figure at 0x9f62a90>"
      ]
     },
     "metadata": {},
     "output_type": "display_data"
    }
   ],
   "source": [
    "import matplotlib.pyplot as plt\n",
    "from sklearn.svm import SVC\n",
    "from sklearn.cross_validation import StratifiedKFold\n",
    "from sklearn.feature_selection import RFECV\n",
    "clf = DecisionTreeClassifier(max_depth = 5)\n",
    "rfecv = RFECV(estimator=clf, step=1, cv=StratifiedKFold(labels, 50),\n",
    "          scoring='precision')\n",
    "rfecv.fit(features, labels)\n",
    "print(\"Optimal number of features : %d\" % rfecv.n_features_)\n",
    "print rfecv.support_\n",
    "features=features[:,rfecv.support_]\n",
    "# Plot number of features VS. cross-validation scores\n",
    "plt.figure()\n",
    "plt.xlabel(\"Number of features selected\")\n",
    "plt.ylabel(\"Cross validation score (nb of correct classifications)\")\n",
    "plt.plot(range(1, len(rfecv.grid_scores_) + 1), rfecv.grid_scores_)\n",
    "plt.show()"
   ]
  },
  {
   "cell_type": "markdown",
   "metadata": {},
   "source": [
    "Decision Tree Classifier Tuning"
   ]
  },
  {
   "cell_type": "code",
   "execution_count": 37,
   "metadata": {},
   "outputs": [
    {
     "name": "stderr",
     "output_type": "stream",
     "text": [
      "C:\\Users\\abc\\Anaconda2\\lib\\site-packages\\sklearn\\metrics\\classification.py:1113: UndefinedMetricWarning: F-score is ill-defined and being set to 0.0 in labels with no predicted samples.\n",
      "  'precision', 'predicted', average, warn_for)\n"
     ]
    },
    {
     "name": "stdout",
     "output_type": "stream",
     "text": [
      "DecisionTreeClassifier(class_weight=None, criterion='gini', max_depth=2,\n",
      "            max_features=None, max_leaf_nodes=None,\n",
      "            min_impurity_split=1e-07, min_samples_leaf=7,\n",
      "            min_samples_split=4, min_weight_fraction_leaf=0.0,\n",
      "            presort=False, random_state=None, splitter='best')\n",
      "0.887857142857\n",
      "Processing time: 71.96 s\n"
     ]
    }
   ],
   "source": [
    "from time import time\n",
    "t0 = time()\n",
    "parameters = {'max_depth': [1, 2, 3, 4, 5, 6, 8, 9, 10], 'min_samples_split':[2,3,4,5,6,7,8,9,10],\n",
    "              'min_samples_leaf': [1, 2, 3, 4, 5, 6, 7, 8], 'criterion': ('gini', 'entropy')}\n",
    "\n",
    "decTree_clf = DecisionTreeClassifier()\n",
    "decTreeclf = grid_search.GridSearchCV(decTree_clf, parameters, scoring=scoring, cv=cv)\n",
    "\n",
    "decTreeclf.fit(features, labels)\n",
    "print decTreeclf.best_estimator_\n",
    "print decTreeclf.best_score_\n",
    "print 'Processing time:', round(time() - t0, 3), 's'"
   ]
  },
  {
   "cell_type": "markdown",
   "metadata": {},
   "source": [
    "# Classifier Validation"
   ]
  },
  {
   "cell_type": "code",
   "execution_count": 38,
   "metadata": {},
   "outputs": [
    {
     "name": "stdout",
     "output_type": "stream",
     "text": [
      "DecisionTreeClassifier(class_weight=None, criterion='gini', max_depth=2,\n",
      "            max_features=None, max_leaf_nodes=None,\n",
      "            min_impurity_split=1e-07, min_samples_leaf=7,\n",
      "            min_samples_split=4, min_weight_fraction_leaf=0.0,\n",
      "            presort=False, random_state=None, splitter='best')\n",
      "\tAccuracy: 0.85833\tPrecision: 0.42682\tRecall: 0.80200\tF1: 0.55714\tF2: 0.68209\n",
      "\tTotal predictions: 9000\tTrue positives:  802\tFalse positives: 1077\tFalse negatives:  198\tTrue negatives: 6923\n",
      "\n",
      "Processing time: 0.803 s\n"
     ]
    }
   ],
   "source": [
    "##DecisionTreeClassifier Validation 1 (StratifiedShuffleSplit, folds = 1000)\n",
    "from tester import test_classifier\n",
    "t0 = time()\n",
    "decTree_best_clf = decTreeclf.best_estimator_\n",
    "test_classifier(decTree_best_clf, my_dataset, features_list)\n",
    "print 'Processing time:', round(time() - t0, 3), 's'"
   ]
  },
  {
   "cell_type": "code",
   "execution_count": 39,
   "metadata": {},
   "outputs": [
    {
     "name": "stdout",
     "output_type": "stream",
     "text": [
      "Accuracy and Deviation: (0.84738562091503267, 0.10525920072782949)\n",
      "Processing time: 0.015 s\n",
      "DecisionTreeClassifier(class_weight=None, criterion='gini', max_depth=2,\n",
      "            max_features=None, max_leaf_nodes=None,\n",
      "            min_impurity_split=1e-07, min_samples_leaf=7,\n",
      "            min_samples_split=4, min_weight_fraction_leaf=0.0,\n",
      "            presort=False, random_state=None, splitter='best')\n",
      "\tAccuracy: 0.85844\tPrecision: 0.42705\tRecall: 0.80200\tF1: 0.55733\tF2: 0.68220\n",
      "\tTotal predictions: 9000\tTrue positives:  802\tFalse positives: 1076\tFalse negatives:  198\tTrue negatives: 6924\n",
      "\n"
     ]
    }
   ],
   "source": [
    "##DecisionTreeClassifier Validation 2  (Cross validation)\n",
    "\n",
    "from sklearn.model_selection import cross_val_score\n",
    "t0 = time()\n",
    "decTree_best_clf = decTreeclf.best_estimator_\n",
    "scores = cross_val_score(decTree_best_clf, features, labels, cv=5,scoring = 'accuracy')\n",
    "print(\"Accuracy and Deviation: \" + str((scores.mean(), scores.std() * 2)))\n",
    "print 'Processing time:', round(time() - t0, 3), 's'\n",
    "test_classifier(decTree_best_clf, my_dataset, features_list)"
   ]
  },
  {
   "cell_type": "code",
   "execution_count": null,
   "metadata": {
    "collapsed": true
   },
   "outputs": [],
   "source": []
  }
 ],
 "metadata": {
  "kernelspec": {
   "display_name": "Python [default]",
   "language": "python",
   "name": "python2"
  },
  "language_info": {
   "codemirror_mode": {
    "name": "ipython",
    "version": 2
   },
   "file_extension": ".py",
   "mimetype": "text/x-python",
   "name": "python",
   "nbconvert_exporter": "python",
   "pygments_lexer": "ipython2",
   "version": "2.7.13"
  }
 },
 "nbformat": 4,
 "nbformat_minor": 2
}
